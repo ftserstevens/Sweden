{
 "cells": [
  {
   "attachments": {},
   "cell_type": "markdown",
   "metadata": {},
   "source": [
    "### Load Data"
   ]
  },
  {
   "cell_type": "code",
   "execution_count": 2,
   "metadata": {},
   "outputs": [],
   "source": [
    "# Use a pipeline as a high-level helper\n",
    "from transformers import pipeline\n",
    "import pandas as pd\n",
    "import tqdm\n",
    "from transformers import AutoModelForSequenceClassification\n",
    "from transformers import TFAutoModelForSequenceClassification\n",
    "from transformers import AutoTokenizer, AutoConfig\n",
    "import numpy as np\n",
    "import os\n",
    "from scipy.special import softmax\n",
    "\n",
    "\n",
    "def preprocess(text):\n",
    "    new_text = []\n",
    "    for t in text.split(\" \"):\n",
    "        t = '@user' if t.startswith('@') and len(t) > 1 else t\n",
    "        t = 'http' if t.startswith('http') else t\n",
    "        new_text.append(t)\n",
    "    return \" \".join(new_text)\n"
   ]
  },
  {
   "cell_type": "markdown",
   "metadata": {},
   "source": [
    "# OpenSource (HuggingFace)"
   ]
  },
  {
   "attachments": {},
   "cell_type": "markdown",
   "metadata": {},
   "source": [
    "### Translation"
   ]
  },
  {
   "cell_type": "code",
   "execution_count": 24,
   "metadata": {},
   "outputs": [],
   "source": [
    "pipe = pipeline(\"translation\", model=\"facebook/nllb-200-distilled-600M\", src_lang=\"swe_Latn\", tgt_lang=\"eng_Latn\")\n",
    "#https://huggingface.co/facebook/nllb-200-distilled-600M\n",
    "\n",
    "\n",
    "# Define a function to translate text\n",
    "def translate_text(text):\n",
    "    result = pipe(text)\n",
    "    return result[0]['translation_text']"
   ]
  },
  {
   "cell_type": "code",
   "execution_count": 25,
   "metadata": {},
   "outputs": [
    {
     "name": "stderr",
     "output_type": "stream",
     "text": [
      "Translating:  20%|█▉        | 3805/19441 [4:29:09<18:35:46,  4.28s/it]Your input_length: 233 is bigger than 0.9 * max_length: 200. You might consider increasing your max_length manually, e.g. translator('...', max_length=400)\n",
      "Translating: 100%|██████████| 19441/19441 [22:58:57<00:00,  4.26s/it]   \n"
     ]
    }
   ],
   "source": [
    "df = pd.read_csv('./translate.csv')\n",
    "\n",
    "for i in tqdm.tqdm(range(len(df)), desc=\"Translating\"):\n",
    "    df.at[i, 'en_translated_text'] = translate_text(df.at[i, 'sw_text'])\n",
    "df.to_csv('./translated.csv', index = False)"
   ]
  },
  {
   "attachments": {},
   "cell_type": "markdown",
   "metadata": {},
   "source": [
    "### English Sentiment Scoring"
   ]
  },
  {
   "cell_type": "code",
   "execution_count": null,
   "metadata": {},
   "outputs": [],
   "source": [
    "df = pd.read_csv(\"./translated.csv\")\n",
    "# https://huggingface.co/cardiffnlp/twitter-roberta-base-sentiment-latest\n",
    "\n",
    "MODEL = \"cardiffnlp/twitter-roberta-base-sentiment-latest\"\n",
    "tokenizer = AutoTokenizer.from_pretrained(MODEL)\n",
    "config = AutoConfig.from_pretrained(MODEL)\n",
    "# PT\n",
    "model = AutoModelForSequenceClassification.from_pretrained(MODEL)\n"
   ]
  },
  {
   "cell_type": "code",
   "execution_count": 27,
   "metadata": {},
   "outputs": [
    {
     "name": "stderr",
     "output_type": "stream",
     "text": [
      "Sentiment scoring: 100%|██████████| 19441/19441 [34:07<00:00,  9.49it/s]\n"
     ]
    }
   ],
   "source": [
    "for i in tqdm.tqdm(range(len(df)), desc=\"Sentiment scoring\"):\n",
    "    text = preprocess(df.en_translated_text[i])\n",
    "    df.at[i, 'model_text'] = text\n",
    "    encoded_input = tokenizer(text, return_tensors='pt')\n",
    "    output = model(**encoded_input)\n",
    "    scores = output[0][0].detach().numpy()\n",
    "    df.at[i, 'negative_score_en'], df.at[i, 'neutral_score_en'], df.at[i, 'positive_score_en'] = softmax(scores)\n",
    "\n",
    "df.to_csv(\"./sentiment_scored_en.csv\", index = False)\n"
   ]
  },
  {
   "attachments": {},
   "cell_type": "markdown",
   "metadata": {},
   "source": [
    "### Swedish sentiment scoring"
   ]
  },
  {
   "cell_type": "code",
   "execution_count": 9,
   "metadata": {},
   "outputs": [],
   "source": [
    "df =  pd.read_csv(\"./translated.csv\")\n",
    "sw = pipeline('sentiment-analysis', model='KBLab/robust-swedish-sentiment-multiclass')\n",
    "#https://huggingface.co/KBLab/robust-swedish-sentiment-multiclass\n"
   ]
  },
  {
   "cell_type": "code",
   "execution_count": 10,
   "metadata": {},
   "outputs": [
    {
     "name": "stderr",
     "output_type": "stream",
     "text": [
      "Sentiment scoring (swedish): 100%|██████████| 19441/19441 [2:28:06<00:00,  2.19it/s]    \n"
     ]
    }
   ],
   "source": [
    "for i in tqdm.tqdm(range(len(df)), desc=\"Sentiment scoring (swedish)\"):\n",
    "    text = preprocess(df.sw_text[i])\n",
    "    output = sw(text)\n",
    "    df.at[i, 'sentiment_sw'] = output[0][\"label\"]\n",
    "    df.at[i, 'score_sw'] = output[0][\"score\"]\n",
    "\n",
    "df.to_csv(\"./sentiment_scored_sw_KBL.csv\", index = False)"
   ]
  },
  {
   "attachments": {},
   "cell_type": "markdown",
   "metadata": {},
   "source": [
    "# OpenAI - GPt 4o"
   ]
  },
  {
   "cell_type": "code",
   "execution_count": 4,
   "metadata": {},
   "outputs": [],
   "source": [
    "import openai\n",
    "from api_keys import openai_key\n",
    "\n",
    "\n",
    "client = openai.OpenAI(\n",
    "    api_key= openai_key\n",
    ",\n",
    ")\n",
    "\n",
    "\n",
    "def sentiment_analysis_sw(transcription):\n",
    "    response = client.chat.completions.create(\n",
    "        model=\"gpt-4o-mini\",\n",
    "        temperature=0,\n",
    "        messages=[\n",
    "            {\n",
    "                \"role\": \"system\",\n",
    "                \"content\": \"Som en AI med expertis inom språk och känsloanalys är din uppgift att analysera sentimentet i följande text. Returnera endast sentimentklassen antingen POSITIVE, NEUTRAL eller NEGATIVE.\"\n",
    "            },\n",
    "            {\n",
    "                \"role\": \"user\",\n",
    "                \"content\": transcription\n",
    "            }\n",
    "        ]\n",
    "    )\n",
    "    return response\n",
    "\n",
    "def sentiment_analysis_en(transcription):\n",
    "    response = client.chat.completions.create(\n",
    "        model=\"gpt-4o-mini\",\n",
    "        temperature=0,\n",
    "        messages=[\n",
    "            {\n",
    "                \"role\": \"system\",\n",
    "                \"content\": \"As an AI with expertise in language and emotion analysis, your task is to analyze the sentiment of the following text. Return only the class of the sentiment either POSITIVE, NEUTRAL or NEGATIVE.\"\n",
    "            },\n",
    "            {\n",
    "                \"role\": \"user\",\n",
    "                \"content\": transcription\n",
    "            }\n",
    "        ]\n",
    "    )\n",
    "    return response\n"
   ]
  },
  {
   "cell_type": "code",
   "execution_count": 5,
   "metadata": {},
   "outputs": [
    {
     "name": "stderr",
     "output_type": "stream",
     "text": [
      "Sentiment scoring (gpt Swedish & English): 100%|██████████| 2/2 [00:03<00:00,  1.59s/it]\n"
     ]
    }
   ],
   "source": [
    "df = pd.read_csv(\"./translated.csv\")\n",
    "for i in tqdm.tqdm(range(len(df)- 19439), desc=f\"Sentiment scoring (gpt Swedish & English)\"):\n",
    "    text = preprocess(df.sw_text[i])\n",
    "    output = sentiment_analysis_sw(text)\n",
    "    df.at[i, 'sentiment_openai_sw'] = output.choices[0].message.content\n",
    "    text = preprocess(df.en_translated_text[i])\n",
    "    output = sentiment_analysis_en(text)\n",
    "    df.at[i, 'sentiment_openai_en'] = output.choices[0].message.content\n",
    "\n",
    "\n",
    "df.to_csv(\"./sentiment_scored_gpt.csv\", index = False)"
   ]
  }
 ],
 "metadata": {
  "kernelspec": {
   "display_name": "Python 3",
   "language": "python",
   "name": "python3"
  },
  "language_info": {
   "codemirror_mode": {
    "name": "ipython",
    "version": 3
   },
   "file_extension": ".py",
   "mimetype": "text/x-python",
   "name": "python",
   "nbconvert_exporter": "python",
   "pygments_lexer": "ipython3",
   "version": "3.11.2 (v3.11.2:878ead1ac1, Feb  7 2023, 10:02:41) [Clang 13.0.0 (clang-1300.0.29.30)]"
  },
  "orig_nbformat": 4,
  "vscode": {
   "interpreter": {
    "hash": "aee8b7b246df8f9039afb4144a1f6fd8d2ca17a180786b69acc140d282b71a49"
   }
  }
 },
 "nbformat": 4,
 "nbformat_minor": 2
}
