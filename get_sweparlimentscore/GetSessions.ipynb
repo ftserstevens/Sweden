{
 "cells": [
  {
   "cell_type": "code",
   "execution_count": 57,
   "metadata": {},
   "outputs": [],
   "source": [
    "import requests\n",
    "import json\n",
    "import pandas as pd\n",
    "import tqdm "
   ]
  },
  {
   "attachments": {},
   "cell_type": "markdown",
   "metadata": {},
   "source": [
    "### GET the voting sessions"
   ]
  },
  {
   "cell_type": "code",
   "execution_count": 71,
   "metadata": {},
   "outputs": [],
   "source": [
    "# Load and process the JSON data\n",
    "with open(\"./votesessions14_23.json\", \"r\") as f:\n",
    "    sessions = pd.DataFrame(json.load(f))\n",
    "#change year varialbe\n",
    "sessions['rm_end'] = sessions['rm'].str[2:4].astype(int) +1\n",
    "sessions['rm'] = sessions['rm'].str[:4].astype(int)"
   ]
  },
  {
   "cell_type": "code",
   "execution_count": 72,
   "metadata": {},
   "outputs": [
    {
     "name": "stderr",
     "output_type": "stream",
     "text": [
      "Fetching votes: 100%|██████████| 6928/6928 [40:10<00:00,  2.87it/s]   \n"
     ]
    }
   ],
   "source": [
    "for i, value in tqdm.tqdm(enumerate(sessions.iterrows()), total=len(sessions), desc=\"Fetching votes\"):\n",
    "### Create the link\n",
    "    rm, rm_end, bet, punkt = sessions.iloc[i][[\"rm\",\"rm_end\",\"bet\", \"punkt\"]]\n",
    "    api_link = f\"https://data.riksdagen.se/voteringlista/?rm={rm}%2F{rm_end}&bet={bet}&punkt={punkt}&valkrets=&rost=&iid=&sz=10000&utformat=json&gruppering=namn\"\n",
    "### Fetch data from the API\n",
    "    response = requests.get(api_link)\n",
    "    if response.status_code == 200:\n",
    "        vote_data = response.json()\n",
    "    else:\n",
    "        print(f\"Error: {response.status_code}\")\n",
    "### write the file\n",
    "    filename = f'./votes14_23/{str(rm) + str(bet) + \"p\" + str(punkt)}.json'\n",
    "    with open(filename, 'w') as f:\n",
    "        json.dump(vote_data['voteringlista']['votering'], f, indent=4)"
   ]
  }
 ],
 "metadata": {
  "kernelspec": {
   "display_name": "Python 3",
   "language": "python",
   "name": "python3"
  },
  "language_info": {
   "codemirror_mode": {
    "name": "ipython",
    "version": 3
   },
   "file_extension": ".py",
   "mimetype": "text/x-python",
   "name": "python",
   "nbconvert_exporter": "python",
   "pygments_lexer": "ipython3",
   "version": "3.11.2 (v3.11.2:878ead1ac1, Feb  7 2023, 10:02:41) [Clang 13.0.0 (clang-1300.0.29.30)]"
  },
  "orig_nbformat": 4,
  "vscode": {
   "interpreter": {
    "hash": "aee8b7b246df8f9039afb4144a1f6fd8d2ca17a180786b69acc140d282b71a49"
   }
  }
 },
 "nbformat": 4,
 "nbformat_minor": 2
}
